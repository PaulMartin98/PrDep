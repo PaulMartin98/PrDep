{
 "cells": [
  {
   "cell_type": "markdown",
   "metadata": {},
   "source": [
    "# Un premier modèle"
   ]
  },
  {
   "cell_type": "markdown",
   "metadata": {},
   "source": [
    "## Notations\n",
    "\n",
    "$t$ : temps courant d’estimation de la provision garantie\n",
    "\n",
    "$P(t) = {G(t), \\widetilde{G}(t)}$ : parc roulant à l'instant $t$ ($G(t)$ avec garantie, $\\widetilde{G}(t)$ sans garantie)\n",
    "\n",
    "$\\tau$ : horizon de temps de la prévision\n",
    "\n",
    "$\\nu$ : véhicule\n",
    "\n",
    "$f$ : mois de fabrication\n",
    "\n",
    "$R(f)$ : ensemble des référentiels techniques au mois de fabrication $f$ : \n",
    "\n",
    "$R(f)= \\{R_{1}(f);\\dots;R_{I}(f)\\}$\n",
    "\n",
    "$R_{i}(f)$ : référentiel technique au mois de fabrication $f$\n",
    "\n",
    "$\\delta_{G}$ : durée du contrat garantie"
   ]
  },
  {
   "cell_type": "code",
   "execution_count": 2,
   "metadata": {},
   "outputs": [],
   "source": [
    "import random as rd"
   ]
  },
  {
   "cell_type": "code",
   "execution_count": 3,
   "metadata": {},
   "outputs": [],
   "source": [
    "import numpy as np"
   ]
  },
  {
   "cell_type": "code",
   "execution_count": 4,
   "metadata": {},
   "outputs": [],
   "source": [
    "import matplotlib.pyplot as plt"
   ]
  },
  {
   "cell_type": "code",
   "execution_count": 32,
   "metadata": {},
   "outputs": [
    {
     "name": "stdout",
     "output_type": "stream",
     "text": [
      "[0.04347826 0.08695652 0.04347826 0.26086957 0.13043478 0.04347826\n",
      " 0.04347826 0.         0.2173913  0.13043478] 1.0\n",
      "[0.18181818 0.27272727 0.47727273 0.65909091 0.65909091 0.70454545\n",
      " 0.84090909 0.84090909 0.97727273 1.        ]\n"
     ]
    }
   ],
   "source": [
    "#Fonction pour obtenir des probabilités aléatoires de défauts\n",
    "\n",
    "def tirage_proba(N):\n",
    "    list = [rd.randrange(0,10) for k in range(N)]\n",
    "    list = list/np.sum(list)\n",
    "    return list\n",
    "\n",
    "print(tirage_proba(10),sum(tirage_proba(10))) #doc\n",
    "print(np.cumsum(tirage_proba(10)))"
   ]
  },
  {
   "cell_type": "code",
   "execution_count": 29,
   "metadata": {},
   "outputs": [
    {
     "name": "stdout",
     "output_type": "stream",
     "text": [
      "[0, 906, 623, 798, 607, 254, 739, 732, 349, 347]\n"
     ]
    }
   ],
   "source": [
    "def tirage_cout(N):\n",
    "    list = [0] + [rd.randrange(50,1000) for k in range(N-1)]\n",
    "    return list\n",
    "\n",
    "print(tirage_cout(10))"
   ]
  },
  {
   "cell_type": "code",
   "execution_count": 66,
   "metadata": {},
   "outputs": [
    {
     "name": "stdout",
     "output_type": "stream",
     "text": [
      "[0.01265823 0.01687764 0.00843882 0.01265823 0.01687764 0.00843882\n",
      " 0.03797468 0.00843882 0.02953586 0.02109705 0.03797468 0.01687764\n",
      " 0.02531646 0.03375527 0.01265823 0.02953586 0.02109705 0.00843882\n",
      " 0.         0.         0.01265823 0.01687764 0.01687764 0.02531646\n",
      " 0.00843882 0.02109705 0.03375527 0.         0.00421941 0.\n",
      " 0.         0.         0.02953586 0.02109705 0.03375527 0.01687764\n",
      " 0.01265823 0.01265823 0.02953586 0.00421941 0.03797468 0.03375527\n",
      " 0.00421941 0.02109705 0.02953586 0.00421941 0.00421941 0.02953586\n",
      " 0.00421941 0.01265823 0.01687764 0.02109705 0.01687764 0.00843882\n",
      " 0.01265823 0.02531646 0.01687764 0.01265823 0.00843882 0.02109705] [0.01265823 0.02953586 0.03797468 0.05063291 0.06751055 0.07594937\n",
      " 0.11392405 0.12236287 0.15189873 0.17299578 0.21097046 0.2278481\n",
      " 0.25316456 0.28691983 0.29957806 0.32911392 0.35021097 0.35864979\n",
      " 0.35864979 0.35864979 0.37130802 0.38818565 0.40506329 0.43037975\n",
      " 0.43881857 0.45991561 0.49367089 0.49367089 0.4978903  0.4978903\n",
      " 0.4978903  0.4978903  0.52742616 0.54852321 0.58227848 0.59915612\n",
      " 0.61181435 0.62447257 0.65400844 0.65822785 0.69620253 0.72995781\n",
      " 0.73417722 0.75527426 0.78481013 0.78902954 0.79324895 0.82278481\n",
      " 0.82700422 0.83966245 0.85654008 0.87763713 0.89451477 0.90295359\n",
      " 0.91561181 0.94092827 0.95780591 0.97046414 0.97890295 1.        ]\n"
     ]
    }
   ],
   "source": [
    "N = 60 # nombre de défauts possibles du lot de fabrication \n",
    "\n",
    "P1 = tirage_proba(N) #liste des probabilités de défauts pendant l'année 1, P1[0] est la probabilité que la voiture n'est pas de défaut\n",
    "P2 = tirage_proba(N)\n",
    "P3 = tirage_proba(N)\n",
    "\n",
    "C1 = tirage_cout(N) # coûts associés aux défauts durant l'année 1\n",
    "C2 = tirage_cout(N)\n",
    "C3 = tirage_cout(N)\n",
    "\n",
    "print(P1,np.cumsum(P1))"
   ]
  },
  {
   "cell_type": "code",
   "execution_count": 67,
   "metadata": {},
   "outputs": [
    {
     "data": {
      "image/png": "[encoded data removed]",
      "text/plain": [
       "<Figure size 432x288 with 1 Axes>"
      ]
     },
     "metadata": {
      "needs_background": "light"
     },
     "output_type": "display_data"
    }
   ],
   "source": [
    "def tirage(P):\n",
    "    \n",
    "    P_cumul = np.cumsum(P)\n",
    "    p = rd.random()\n",
    "    for k in range(len(P)):\n",
    "        if p <= P_cumul[k]:\n",
    "            return k\n",
    "        \n",
    "def tirage2(P):\n",
    "    \n",
    "    p = rd.random()\n",
    "    CDF = np.cumsum(P)\n",
    "    ind = -1\n",
    "    for i in range(len(CDF-1)):\n",
    "        if CDF[i] > p:\n",
    "            return i\n",
    "\n",
    "        \n",
    "def simule_traj(P1,P2,P3,C1,C2,C3):\n",
    "    ind1 = tirage(P1)\n",
    "    ind2 = tirage(P2)\n",
    "    ind3 = tirage(P3)\n",
    "    return C1[ind1]+C2[ind2]+C3[ind3]\n",
    "\n",
    "def LFGN(n,P1,P2,P3,C1,C2,C3): # n nombre de voitures dans le parc roulant\n",
    "    histo = []\n",
    "    for k in range(n):\n",
    "        histo.append(simule_traj(P1,P2,P3,C1,C2,C3))\n",
    "    average = np.mean(histo)\n",
    "    plt.hist(histo,bins=100)\n",
    "    plt.xlabel('Cost')\n",
    "    plt.ylabel('Effectifs')\n",
    "    plt.title('Histogramme')\n",
    "    plt.show()\n",
    "    return average\n",
    "\n",
    "\n",
    "av=LFGN(100000,P1,P2,P3,C1,C2,C3)\n",
    "    "
   ]
  },
  {
   "cell_type": "markdown",
   "metadata": {},
   "source": [
    "## Processus de Poisson: (paramètre constant)"
   ]
  },
  {
   "cell_type": "code",
   "execution_count": 16,
   "metadata": {},
   "outputs": [],
   "source": [
    "import numpy as np\n",
    "import matplotlib.pyplot as plt"
   ]
  },
  {
   "cell_type": "code",
   "execution_count": 3,
   "metadata": {},
   "outputs": [
    {
     "data": {
      "text/plain": [
       "(7, 3500)"
      ]
     },
     "execution_count": 3,
     "metadata": {},
     "output_type": "execute_result"
    }
   ],
   "source": [
    "def Poisson(l,cout,t):\n",
    "    beta = 1 / l\n",
    "    nb_panne = 0\n",
    "    temps_simu = 0\n",
    "    T = []\n",
    "    while(temps_simu < t):\n",
    "        tau = np.random.exponential(beta, size = None)\n",
    "        temps_simu += tau\n",
    "        nb_panne += 1\n",
    "        T.append(tau)\n",
    "    return nb_panne-1, (nb_panne-1)*cout\n",
    "\n",
    "Poisson(1,500,10)    "
   ]
  },
  {
   "cell_type": "code",
   "execution_count": 14,
   "metadata": {},
   "outputs": [
    {
     "name": "stdout",
     "output_type": "stream",
     "text": [
      "9.87 4935.0 [12, 11, 16, 14, 8, 10, 11, 16, 11, 9, 6, 8, 9, 9, 10, 5, 6, 9, 12, 11, 6, 12, 5, 11, 10, 5, 7, 16, 9, 10, 11, 12, 9, 10, 9, 8, 6, 10, 7, 6, 8, 14, 10, 11, 6, 9, 11, 11, 15, 7, 10, 15, 7, 8, 9, 6, 15, 9, 6, 9, 6, 11, 14, 6, 5, 11, 8, 11, 11, 8, 11, 9, 13, 8, 8, 9, 8, 11, 11, 7, 13, 13, 11, 17, 12, 10, 11, 7, 13, 12, 10, 8, 7, 9, 15, 13, 9, 15, 10, 8] [6000, 5500, 8000, 7000, 4000, 5000, 5500, 8000, 5500, 4500, 3000, 4000, 4500, 4500, 5000, 2500, 3000, 4500, 6000, 5500, 3000, 6000, 2500, 5500, 5000, 2500, 3500, 8000, 4500, 5000, 5500, 6000, 4500, 5000, 4500, 4000, 3000, 5000, 3500, 3000, 4000, 7000, 5000, 5500, 3000, 4500, 5500, 5500, 7500, 3500, 5000, 7500, 3500, 4000, 4500, 3000, 7500, 4500, 3000, 4500, 3000, 5500, 7000, 3000, 2500, 5500, 4000, 5500, 5500, 4000, 5500, 4500, 6500, 4000, 4000, 4500, 4000, 5500, 5500, 3500, 6500, 6500, 5500, 8500, 6000, 5000, 5500, 3500, 6500, 6000, 5000, 4000, 3500, 4500, 7500, 6500, 4500, 7500, 5000, 4000]\n"
     ]
    }
   ],
   "source": [
    "def simu_panne(l,cout,t,n):\n",
    "    liste_nb_panne = []\n",
    "    liste_cout = []\n",
    "    for i in range(n):\n",
    "        p,c = Poisson(l,cout,t)\n",
    "        liste_cout.append(c)\n",
    "        liste_nb_panne.append(p)\n",
    "    return np.mean(liste_nb_panne),np.mean(liste_cout),liste_nb_panne,liste_cout\n",
    "\n",
    "m1,m2,liste_nb_panne,liste_cout = simu_panne(1,500,10,100)\n",
    "print(m1,m2,liste_nb_panne,liste_cout)"
   ]
  },
  {
   "cell_type": "code",
   "execution_count": 19,
   "metadata": {},
   "outputs": [
    {
     "data": {
      "image/png": "[encoded data removed]",
      "text/plain": [
       "<Figure size 432x288 with 1 Axes>"
      ]
     },
     "metadata": {
      "needs_background": "light"
     },
     "output_type": "display_data"
    },
    {
     "data": {
      "image/png": "[encoded data removed]",
      "text/plain": [
       "<Figure size 432x288 with 1 Axes>"
      ]
     },
     "metadata": {
      "needs_background": "light"
     },
     "output_type": "display_data"
    }
   ],
   "source": [
    "def histo(nb_panne,cout):\n",
    "    plt.hist(nb_panne,bins=100)\n",
    "    plt.xlabel('nombre de panne')\n",
    "    plt.ylabel('effectif')\n",
    "    plt.title('Histogramme')\n",
    "    plt.show()\n",
    "    plt.hist(cout,bins=100)\n",
    "    plt.xlabel('cout')\n",
    "    plt.ylabel('effectif')\n",
    "    plt.show()\n",
    "    \n",
    "histo(liste_nb_panne,liste_cout)"
   ]
  },
  {
   "cell_type": "markdown",
   "metadata": {},
   "source": [
    "## Questions\n",
    "- Granularité en temps: mois, semaine, jour?\n",
    "- La probabilité d'avoir un incident augmente-t-elle avec le temps?\n",
    "- Indépendance des incidents?\n",
    "- Qu'entraîne la réparation sur la possibilité d'avoir un autre accident?\n",
    "- Le coût d'un incident est-il toujours exactt? ou peut être aléatoire? ( gaussien ? )\n"
   ]
  }
 ],
 "metadata": {
  "kernelspec": {
   "display_name": "Python 3",
   "language": "python",
   "name": "python3"
  },
  "language_info": {
   "codemirror_mode": {
    "name": "ipython",
    "version": 3
   },
   "file_extension": ".py",
   "mimetype": "text/x-python",
   "name": "python",
   "nbconvert_exporter": "python",
   "pygments_lexer": "ipython3",
   "version": "3.6.7"
  }
 },
 "nbformat": 4,
 "nbformat_minor": 2
}
